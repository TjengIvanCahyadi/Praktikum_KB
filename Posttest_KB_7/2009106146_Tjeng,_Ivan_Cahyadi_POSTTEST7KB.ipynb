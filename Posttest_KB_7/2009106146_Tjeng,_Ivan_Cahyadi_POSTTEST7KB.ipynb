{
  "nbformat": 4,
  "nbformat_minor": 0,
  "metadata": {
    "colab": {
      "provenance": [],
      "collapsed_sections": [
        "18dbb7WJ8xHx",
        "adVtfKaEaxCD",
        "OXdfWrj7bmU3"
      ]
    },
    "kernelspec": {
      "name": "python3",
      "display_name": "Python 3"
    },
    "language_info": {
      "name": "python"
    }
  },
  "cells": [
    {
      "cell_type": "markdown",
      "source": [
        "# **Praktikum Kecerdasan Buatan - Post Test 7 - TensorFlow Basic**\n",
        "###### Tjeng, Ivan Cahyadi 2009106146"
      ],
      "metadata": {
        "id": "fPnrlqiX7ST0"
      }
    },
    {
      "cell_type": "markdown",
      "source": [
        "## **Import Library**"
      ],
      "metadata": {
        "id": "18dbb7WJ8xHx"
      }
    },
    {
      "cell_type": "code",
      "execution_count": 2,
      "metadata": {
        "id": "mZgr2IrT676-"
      },
      "outputs": [],
      "source": [
        "import tensorflow as tf\n",
        "import numpy as np"
      ]
    },
    {
      "cell_type": "markdown",
      "source": [
        "## **Random Tensor**"
      ],
      "metadata": {
        "id": "8EATyzra9Ehm"
      }
    },
    {
      "cell_type": "code",
      "source": [
        "random_tensor = tf.random.normal([5,5], mean=0, stddev=1, seed=4)\n",
        "random_tensor"
      ],
      "metadata": {
        "colab": {
          "base_uri": "https://localhost:8080/"
        },
        "id": "u8_1kzUt81d5",
        "outputId": "7d8a99ca-e215-496d-d9cc-4d631f80c30f"
      },
      "execution_count": 3,
      "outputs": [
        {
          "output_type": "execute_result",
          "data": {
            "text/plain": [
              "<tf.Tensor: shape=(5, 5), dtype=float32, numpy=\n",
              "array([[ 0.29629603, -0.03141323, -0.05471061,  0.03763179,  2.564978  ],\n",
              "       [-0.6494583 , -0.6845234 ,  0.43688074,  1.4897977 , -0.2399326 ],\n",
              "       [ 0.04981674,  0.41748443,  0.11580934,  0.8780719 ,  0.27877015],\n",
              "       [-1.5849335 ,  1.1436394 ,  1.0639356 ,  1.1304685 ,  1.3247743 ],\n",
              "       [ 2.1117373 , -0.863544  , -1.8417858 ,  0.4749224 , -0.9902795 ]],\n",
              "      dtype=float32)>"
            ]
          },
          "metadata": {},
          "execution_count": 3
        }
      ]
    },
    {
      "cell_type": "markdown",
      "source": [
        "## **Prime Tensor**"
      ],
      "metadata": {
        "id": "T2vvelr29Igy"
      }
    },
    {
      "cell_type": "code",
      "source": [
        "primes = []"
      ],
      "metadata": {
        "id": "U9ICEMXr9KQK"
      },
      "execution_count": 4,
      "outputs": []
    },
    {
      "cell_type": "code",
      "source": [
        "def is_prime (x):\n",
        "  for i in range(2, x):\n",
        "    if (x % i == 0):\n",
        "      return False\n",
        "  return True"
      ],
      "metadata": {
        "id": "U1aasv8y9ZK3"
      },
      "execution_count": 5,
      "outputs": []
    },
    {
      "cell_type": "code",
      "source": [
        "row = []\n",
        "number = 2\n",
        "\n",
        "while (len(primes) < 5):\n",
        "  while(len(row) < 5):\n",
        "    if (is_prime(number)):\n",
        "      row.append(number)\n",
        "    number += 1\n",
        "  primes.append(row)\n",
        "  row = []"
      ],
      "metadata": {
        "id": "hyb4mt8U_Tdi"
      },
      "execution_count": 6,
      "outputs": []
    },
    {
      "cell_type": "code",
      "source": [
        "prime_tensor = tf.convert_to_tensor(primes, dtype=tf.float32)\n",
        "prime_tensor"
      ],
      "metadata": {
        "colab": {
          "base_uri": "https://localhost:8080/"
        },
        "id": "V2IKrQX3Azli",
        "outputId": "a03956ac-b970-413c-bae5-0888122186d2"
      },
      "execution_count": 7,
      "outputs": [
        {
          "output_type": "execute_result",
          "data": {
            "text/plain": [
              "<tf.Tensor: shape=(5, 5), dtype=float32, numpy=\n",
              "array([[ 2.,  3.,  5.,  7., 11.],\n",
              "       [13., 17., 19., 23., 29.],\n",
              "       [31., 37., 41., 43., 47.],\n",
              "       [53., 59., 61., 67., 71.],\n",
              "       [73., 79., 83., 89., 97.]], dtype=float32)>"
            ]
          },
          "metadata": {},
          "execution_count": 7
        }
      ]
    },
    {
      "cell_type": "markdown",
      "source": [
        "## **Tensor Dimension**"
      ],
      "metadata": {
        "id": "adVtfKaEaxCD"
      }
    },
    {
      "cell_type": "code",
      "source": [
        "random_tensor.shape"
      ],
      "metadata": {
        "colab": {
          "base_uri": "https://localhost:8080/"
        },
        "id": "Kfqh4v1ma82L",
        "outputId": "54282df4-3370-414c-88ef-753e975be0d7"
      },
      "execution_count": 8,
      "outputs": [
        {
          "output_type": "execute_result",
          "data": {
            "text/plain": [
              "TensorShape([5, 5])"
            ]
          },
          "metadata": {},
          "execution_count": 8
        }
      ]
    },
    {
      "cell_type": "code",
      "source": [
        "prime_tensor.shape"
      ],
      "metadata": {
        "colab": {
          "base_uri": "https://localhost:8080/"
        },
        "id": "7R64IqoUa_hR",
        "outputId": "eb082f5a-693e-48aa-e170-aecdc07026e7"
      },
      "execution_count": 9,
      "outputs": [
        {
          "output_type": "execute_result",
          "data": {
            "text/plain": [
              "TensorShape([5, 5])"
            ]
          },
          "metadata": {},
          "execution_count": 9
        }
      ]
    },
    {
      "cell_type": "markdown",
      "source": [
        "## **Arithmetic Operations**"
      ],
      "metadata": {
        "id": "OXdfWrj7bmU3"
      }
    },
    {
      "cell_type": "code",
      "source": [
        "tf.add(random_tensor, prime_tensor)"
      ],
      "metadata": {
        "colab": {
          "base_uri": "https://localhost:8080/"
        },
        "id": "SXpJ7hSkbv_r",
        "outputId": "3cb74b16-c92a-4ff9-c679-0fe4b57f0eef"
      },
      "execution_count": 10,
      "outputs": [
        {
          "output_type": "execute_result",
          "data": {
            "text/plain": [
              "<tf.Tensor: shape=(5, 5), dtype=float32, numpy=\n",
              "array([[ 2.2962961,  2.9685867,  4.9452896,  7.037632 , 13.564978 ],\n",
              "       [12.350542 , 16.315477 , 19.43688  , 24.489798 , 28.760067 ],\n",
              "       [31.049816 , 37.417484 , 41.11581  , 43.87807  , 47.27877  ],\n",
              "       [51.415066 , 60.14364  , 62.063934 , 68.13047  , 72.324776 ],\n",
              "       [75.11174  , 78.13646  , 81.15821  , 89.47492  , 96.00972  ]],\n",
              "      dtype=float32)>"
            ]
          },
          "metadata": {},
          "execution_count": 10
        }
      ]
    },
    {
      "cell_type": "code",
      "source": [
        "tf.subtract(random_tensor, prime_tensor)"
      ],
      "metadata": {
        "colab": {
          "base_uri": "https://localhost:8080/"
        },
        "id": "Z9MyvoZ1cD2b",
        "outputId": "f6e4cb94-b432-48ba-e4ad-0ee3da161038"
      },
      "execution_count": 11,
      "outputs": [
        {
          "output_type": "execute_result",
          "data": {
            "text/plain": [
              "<tf.Tensor: shape=(5, 5), dtype=float32, numpy=\n",
              "array([[ -1.703704 ,  -3.0314133,  -5.0547104,  -6.962368 ,  -8.435022 ],\n",
              "       [-13.649458 , -17.684523 , -18.56312  , -21.510202 , -29.239933 ],\n",
              "       [-30.950184 , -36.582516 , -40.88419  , -42.12193  , -46.72123  ],\n",
              "       [-54.584934 , -57.85636  , -59.936066 , -65.86953  , -69.675224 ],\n",
              "       [-70.88826  , -79.86354  , -84.84179  , -88.52508  , -97.99028  ]],\n",
              "      dtype=float32)>"
            ]
          },
          "metadata": {},
          "execution_count": 11
        }
      ]
    },
    {
      "cell_type": "code",
      "source": [
        "tf.multiply(random_tensor, prime_tensor)"
      ],
      "metadata": {
        "colab": {
          "base_uri": "https://localhost:8080/"
        },
        "id": "VdRe97AXcLxO",
        "outputId": "d6547425-da75-4556-b2c0-738480b48b53"
      },
      "execution_count": 12,
      "outputs": [
        {
          "output_type": "execute_result",
          "data": {
            "text/plain": [
              "<tf.Tensor: shape=(5, 5), dtype=float32, numpy=\n",
              "array([[ 5.9259206e-01, -9.4239704e-02, -2.7355304e-01,  2.6342255e-01,\n",
              "         2.8214756e+01],\n",
              "       [-8.4429579e+00, -1.1636898e+01,  8.3007336e+00,  3.4265347e+01,\n",
              "        -6.9580455e+00],\n",
              "       [ 1.5443188e+00,  1.5446924e+01,  4.7481828e+00,  3.7757092e+01,\n",
              "         1.3102197e+01],\n",
              "       [-8.4001480e+01,  6.7474724e+01,  6.4900070e+01,  7.5741386e+01,\n",
              "         9.4058975e+01],\n",
              "       [ 1.5415681e+02, -6.8219978e+01, -1.5286823e+02,  4.2268093e+01,\n",
              "        -9.6057114e+01]], dtype=float32)>"
            ]
          },
          "metadata": {},
          "execution_count": 12
        }
      ]
    },
    {
      "cell_type": "code",
      "source": [
        "tf.divide(random_tensor, prime_tensor)"
      ],
      "metadata": {
        "colab": {
          "base_uri": "https://localhost:8080/"
        },
        "id": "91HsqQjmcPNm",
        "outputId": "d22e1395-e67b-4b52-c4a3-22396f6fcd14"
      },
      "execution_count": 13,
      "outputs": [
        {
          "output_type": "execute_result",
          "data": {
            "text/plain": [
              "<tf.Tensor: shape=(5, 5), dtype=float32, numpy=\n",
              "array([[ 0.14814802, -0.01047108, -0.01094212,  0.00537597,  0.23317981],\n",
              "       [-0.04995833, -0.04026608,  0.02299372,  0.06477381, -0.00827354],\n",
              "       [ 0.00160699,  0.01128336,  0.00282462,  0.02042028,  0.00593128],\n",
              "       [-0.02990441,  0.01938372,  0.01744157,  0.01687266,  0.01865879],\n",
              "       [ 0.02892791, -0.01093094, -0.02219019,  0.00533621, -0.01020907]],\n",
              "      dtype=float32)>"
            ]
          },
          "metadata": {},
          "execution_count": 13
        }
      ]
    },
    {
      "cell_type": "code",
      "source": [
        "tf.math.log(random_tensor, prime_tensor)"
      ],
      "metadata": {
        "colab": {
          "base_uri": "https://localhost:8080/"
        },
        "id": "H0PTpwBkcQ-Z",
        "outputId": "ba2bc2c5-3405-4c3a-bd5b-bb4215b835e6"
      },
      "execution_count": 14,
      "outputs": [
        {
          "output_type": "execute_result",
          "data": {
            "text/plain": [
              "<tf.Tensor: shape=(5, 5), dtype=float32, numpy=\n",
              "array([[-1.2163962 ,         nan,         nan, -3.279906  ,  0.94194984],\n",
              "       [        nan,         nan, -0.828095  ,  0.39864033,         nan],\n",
              "       [-2.9994044 , -0.87350804, -2.15581   , -0.13002677, -1.2773677 ],\n",
              "       [        nan,  0.13421567,  0.06197489,  0.12263212,  0.28124207],\n",
              "       [ 0.74751097,         nan,         nan, -0.7446039 ,         nan]],\n",
              "      dtype=float32)>"
            ]
          },
          "metadata": {},
          "execution_count": 14
        }
      ]
    },
    {
      "cell_type": "code",
      "source": [
        "tf.pow(random_tensor, prime_tensor)"
      ],
      "metadata": {
        "colab": {
          "base_uri": "https://localhost:8080/"
        },
        "id": "prOeu7uWcT_q",
        "outputId": "4b70d3e9-b567-46d9-b8b5-7efd34e28ecb"
      },
      "execution_count": 15,
      "outputs": [
        {
          "output_type": "execute_result",
          "data": {
            "text/plain": [
              "<tf.Tensor: shape=(5, 5), dtype=float32, numpy=\n",
              "array([[ 8.7791339e-02, -3.0998308e-05, -4.9018240e-07,  1.0687699e-10,\n",
              "         3.1616943e+04],\n",
              "       [-3.6573492e-03, -1.5907470e-03,  1.4685713e-07,  9.5924150e+03,\n",
              "        -1.0533880e-18],\n",
              "       [ 0.0000000e+00,  9.1979401e-15,  0.0000000e+00,  3.7307271e-03,\n",
              "         8.4445118e-27],\n",
              "       [-3.9864439e+10,  2.7482639e+03,  4.3836586e+01,  3.7009812e+03,\n",
              "         4.6997386e+08],\n",
              "       [ 4.9970226e+23, -9.2570517e-06, -1.0347770e+22,  1.6573540e-29,\n",
              "        -3.8770851e-01]], dtype=float32)>"
            ]
          },
          "metadata": {},
          "execution_count": 15
        }
      ]
    },
    {
      "cell_type": "markdown",
      "source": [
        "checkpoint"
      ],
      "metadata": {
        "id": "Ozw9iEXef8nf"
      }
    },
    {
      "cell_type": "markdown",
      "source": [
        "## **Tensor Statistics Collection**"
      ],
      "metadata": {
        "id": "NsT6TvXacoR3"
      }
    },
    {
      "cell_type": "code",
      "source": [
        "print(f'Nilai maksimal random_tensor: {tf.reduce_max(random_tensor).numpy()}',\n",
        "      f'Nilai minimal  random_tensor: {tf.reduce_min(random_tensor).numpy()}',\n",
        "      sep='\\n' + '-'*50 + '\\n')"
      ],
      "metadata": {
        "colab": {
          "base_uri": "https://localhost:8080/"
        },
        "id": "RdPi8ENaZyn8",
        "outputId": "b4390c31-8c71-4b07-c1f6-4e7501555021"
      },
      "execution_count": 16,
      "outputs": [
        {
          "output_type": "stream",
          "name": "stdout",
          "text": [
            "Nilai maksimal random_tensor: 2.5649778842926025\n",
            "--------------------------------------------------\n",
            "Nilai minimal  random_tensor: -1.8417857885360718\n"
          ]
        }
      ]
    },
    {
      "cell_type": "markdown",
      "source": [
        "## **Tensor Concatenation**"
      ],
      "metadata": {
        "id": "eWNdnTqeawQI"
      }
    },
    {
      "cell_type": "code",
      "source": [
        "tf.concat([random_tensor, prime_tensor], axis=0)"
      ],
      "metadata": {
        "colab": {
          "base_uri": "https://localhost:8080/"
        },
        "id": "fcj52Qqqa6WU",
        "outputId": "2eb1f804-365e-4ed2-99cf-ddd2af3503e9"
      },
      "execution_count": 17,
      "outputs": [
        {
          "output_type": "execute_result",
          "data": {
            "text/plain": [
              "<tf.Tensor: shape=(10, 5), dtype=float32, numpy=\n",
              "array([[ 2.9629603e-01, -3.1413235e-02, -5.4710608e-02,  3.7631791e-02,\n",
              "         2.5649779e+00],\n",
              "       [-6.4945829e-01, -6.8452340e-01,  4.3688074e-01,  1.4897977e+00,\n",
              "        -2.3993260e-01],\n",
              "       [ 4.9816735e-02,  4.1748443e-01,  1.1580934e-01,  8.7807190e-01,\n",
              "         2.7877015e-01],\n",
              "       [-1.5849335e+00,  1.1436394e+00,  1.0639356e+00,  1.1304685e+00,\n",
              "         1.3247743e+00],\n",
              "       [ 2.1117373e+00, -8.6354399e-01, -1.8417858e+00,  4.7492239e-01,\n",
              "        -9.9027950e-01],\n",
              "       [ 2.0000000e+00,  3.0000000e+00,  5.0000000e+00,  7.0000000e+00,\n",
              "         1.1000000e+01],\n",
              "       [ 1.3000000e+01,  1.7000000e+01,  1.9000000e+01,  2.3000000e+01,\n",
              "         2.9000000e+01],\n",
              "       [ 3.1000000e+01,  3.7000000e+01,  4.1000000e+01,  4.3000000e+01,\n",
              "         4.7000000e+01],\n",
              "       [ 5.3000000e+01,  5.9000000e+01,  6.1000000e+01,  6.7000000e+01,\n",
              "         7.1000000e+01],\n",
              "       [ 7.3000000e+01,  7.9000000e+01,  8.3000000e+01,  8.9000000e+01,\n",
              "         9.7000000e+01]], dtype=float32)>"
            ]
          },
          "metadata": {},
          "execution_count": 17
        }
      ]
    },
    {
      "cell_type": "markdown",
      "source": [
        "## **Tensor Sorting**"
      ],
      "metadata": {
        "id": "LnGTS5KGeNFA"
      }
    },
    {
      "cell_type": "code",
      "source": [
        "tf.sort(random_tensor, direction='DESCENDING')"
      ],
      "metadata": {
        "colab": {
          "base_uri": "https://localhost:8080/"
        },
        "id": "k0qhrFO_eUEX",
        "outputId": "dff981c6-4caa-45c6-d383-f28a35464ce1"
      },
      "execution_count": 18,
      "outputs": [
        {
          "output_type": "execute_result",
          "data": {
            "text/plain": [
              "<tf.Tensor: shape=(5, 5), dtype=float32, numpy=\n",
              "array([[ 2.564978  ,  0.29629603,  0.03763179, -0.03141323, -0.05471061],\n",
              "       [ 1.4897977 ,  0.43688074, -0.2399326 , -0.6494583 , -0.6845234 ],\n",
              "       [ 0.8780719 ,  0.41748443,  0.27877015,  0.11580934,  0.04981674],\n",
              "       [ 1.3247743 ,  1.1436394 ,  1.1304685 ,  1.0639356 , -1.5849335 ],\n",
              "       [ 2.1117373 ,  0.4749224 , -0.863544  , -0.9902795 , -1.8417858 ]],\n",
              "      dtype=float32)>"
            ]
          },
          "metadata": {},
          "execution_count": 18
        }
      ]
    },
    {
      "cell_type": "code",
      "source": [
        "tf.sort(prime_tensor, direction='DESCENDING')"
      ],
      "metadata": {
        "colab": {
          "base_uri": "https://localhost:8080/"
        },
        "id": "kpGIZI1ge01g",
        "outputId": "45b7148b-e4d4-4d30-ebf9-5a0017d9d682"
      },
      "execution_count": 26,
      "outputs": [
        {
          "output_type": "execute_result",
          "data": {
            "text/plain": [
              "<tf.Tensor: shape=(5, 5), dtype=float32, numpy=\n",
              "array([[11.,  7.,  5.,  3.,  2.],\n",
              "       [29., 23., 19., 17., 13.],\n",
              "       [47., 43., 41., 37., 31.],\n",
              "       [71., 67., 61., 59., 53.],\n",
              "       [97., 89., 83., 79., 73.]], dtype=float32)>"
            ]
          },
          "metadata": {},
          "execution_count": 26
        }
      ]
    }
  ]
}