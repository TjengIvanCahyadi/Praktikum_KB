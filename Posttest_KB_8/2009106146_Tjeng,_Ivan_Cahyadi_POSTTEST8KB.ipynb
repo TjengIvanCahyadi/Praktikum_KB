{
 "cells": [
  {
   "cell_type": "markdown",
   "metadata": {},
   "source": [
    "# **Praktikum Kecerdasan Buatan - Post Test 8 - Deep Learning**\n",
    "###### Tjeng, Ivan Cahyadi 2009106146"
   ]
  },
  {
   "cell_type": "markdown",
   "metadata": {},
   "source": [
    "## **Import Libraries**"
   ]
  },
  {
   "cell_type": "code",
   "execution_count": 1,
   "metadata": {},
   "outputs": [],
   "source": [
    "import tensorflow as tf\n",
    "import tensorflow.keras.datasets as tfds\n",
    "import matplotlib.pyplot as plt\n",
    "import numpy as np"
   ]
  },
  {
   "cell_type": "markdown",
   "metadata": {},
   "source": [
    "## **Load Data**"
   ]
  },
  {
   "cell_type": "code",
   "execution_count": 3,
   "metadata": {},
   "outputs": [],
   "source": [
    "(x_train_raw, y_train_raw), (x_test_raw, y_test_raw) = tfds.fashion_mnist.load_data()"
   ]
  },
  {
   "cell_type": "code",
   "execution_count": 4,
   "metadata": {},
   "outputs": [
    {
     "name": "stdout",
     "output_type": "stream",
     "text": [
      "panjang x train: 60000\n",
      "panjang y train: 60000\n",
      "panjang x test: 10000\n",
      "panjang y test: 10000\n"
     ]
    }
   ],
   "source": [
    "# Cek jumlah data train dan test\n",
    "print(f'panjang x train: {len(x_train_raw)}',\n",
    "      f'panjang y train: {len(y_train_raw)}',\n",
    "      f'panjang x test: {len(x_test_raw)}',\n",
    "      f'panjang y test: {len(y_test_raw)}',\n",
    "      sep='\\n')"
   ]
  },
  {
   "cell_type": "code",
   "execution_count": 7,
   "metadata": {},
   "outputs": [
    {
     "data": {
      "image/png": "[encoded data removed]",
      "text/plain": [
       "<Figure size 1000x1000 with 4 Axes>"
      ]
     },
     "metadata": {},
     "output_type": "display_data"
    }
   ],
   "source": [
    "# Menampilkan sampel gambar\n",
    "fig = plt.figure(figsize=(10, 10))\n",
    "\n",
    "fig.add_subplot(2, 2, 1)\n",
    "\n",
    "plt.imshow(x_train_raw[38174])\n",
    "plt.axis('off')\n",
    "plt.title(\"Gambar 1\")\n",
    "\n",
    "fig.add_subplot(2, 2, 2)\n",
    "\n",
    "plt.imshow(x_train_raw[8162])\n",
    "plt.axis('off')\n",
    "plt.title(\"Gambar 2\")\n",
    "\n",
    "fig.add_subplot(2, 2, 3)\n",
    "\n",
    "plt.imshow(x_train_raw[41721])\n",
    "plt.axis('off')\n",
    "plt.title(\"Gambar 3\")\n",
    "\n",
    "fig.add_subplot(2, 2, 4)\n",
    "\n",
    "plt.imshow(x_train_raw[100])\n",
    "plt.axis('off')\n",
    "plt.title(\"Gambar 4\")\n",
    "\n",
    "plt.show()"
   ]
  },
  {
   "cell_type": "code",
   "execution_count": 8,
   "metadata": {},
   "outputs": [],
   "source": [
    "# Encode label\n",
    "num_class = len(np.unique(y_train_raw))\n",
    "y_train = tf.keras.utils.to_categorical(y_train_raw, num_class)\n",
    "y_test = tf.keras.utils.to_categorical(y_test_raw, num_class)"
   ]
  },
  {
   "cell_type": "code",
   "execution_count": 9,
   "metadata": {},
   "outputs": [
    {
     "data": {
      "text/plain": [
       "(60000, 28, 28)"
      ]
     },
     "execution_count": 9,
     "metadata": {},
     "output_type": "execute_result"
    }
   ],
   "source": [
    "# Cek dimensi data train\n",
    "x_train_raw.shape"
   ]
  },
  {
   "cell_type": "code",
   "execution_count": 10,
   "metadata": {},
   "outputs": [],
   "source": [
    "# Ubah dimensi array image menjadi 1D\n",
    "x_train = tf.reshape(x_train_raw, [60000, 784])\n",
    "x_test = tf.reshape(x_test_raw, [10000, 784])"
   ]
  },
  {
   "cell_type": "code",
   "execution_count": 11,
   "metadata": {},
   "outputs": [],
   "source": [
    "# Menormalkan nilai piksel gambar\n",
    "x_train = tf.cast(x_train, tf.float32) / 255\n",
    "x_test = tf.cast(x_test, tf.float32) / 255"
   ]
  },
  {
   "cell_type": "markdown",
   "metadata": {},
   "source": [
    "## **Modeling**"
   ]
  },
  {
   "cell_type": "code",
   "execution_count": 130,
   "metadata": {},
   "outputs": [],
   "source": [
    "# Bangun arsitektur\n",
    "model = tf.keras.Sequential([\n",
    "    tf.keras.layers.Dense(32, activation='relu', input_dim=784),\n",
    "    tf.keras.layers.Dense(32, activation='selu'),\n",
    "    tf.keras.layers.Dense(num_class, activation='exponential')\n",
    "])"
   ]
  },
  {
   "cell_type": "code",
   "execution_count": 131,
   "metadata": {},
   "outputs": [
    {
     "name": "stdout",
     "output_type": "stream",
     "text": [
      "Model: \"sequential_29\"\n",
      "_________________________________________________________________\n",
      " Layer (type)                Output Shape              Param #   \n",
      "=================================================================\n",
      " dense_88 (Dense)            (None, 32)                25120     \n",
      "                                                                 \n",
      " dense_89 (Dense)            (None, 32)                1056      \n",
      "                                                                 \n",
      " dense_90 (Dense)            (None, 10)                330       \n",
      "                                                                 \n",
      "=================================================================\n",
      "Total params: 26,506\n",
      "Trainable params: 26,506\n",
      "Non-trainable params: 0\n",
      "_________________________________________________________________\n"
     ]
    }
   ],
   "source": [
    "# Ringkasan detail parameter layer\n",
    "model.summary()"
   ]
  },
  {
   "cell_type": "code",
   "execution_count": 132,
   "metadata": {},
   "outputs": [],
   "source": [
    "# Konfigurasi model\n",
    "model.compile(\n",
    "    optimizer=tf.keras.optimizers.Adam(),\n",
    "    loss=tf.keras.losses.categorical_crossentropy,\n",
    "    metrics=['accuracy']\n",
    ")"
   ]
  },
  {
   "cell_type": "code",
   "execution_count": 133,
   "metadata": {},
   "outputs": [
    {
     "name": "stdout",
     "output_type": "stream",
     "text": [
      "Epoch 1/20\n",
      "5/5 [==============================] - 1s 125ms/step - loss: 2.1227 - accuracy: 0.2613 - val_loss: 1.8552 - val_accuracy: 0.3941\n",
      "Epoch 2/20\n",
      "5/5 [==============================] - 0s 97ms/step - loss: 1.7105 - accuracy: 0.4814 - val_loss: 1.5219 - val_accuracy: 0.5565\n",
      "Epoch 3/20\n",
      "5/5 [==============================] - 0s 117ms/step - loss: 1.4215 - accuracy: 0.5824 - val_loss: 1.2900 - val_accuracy: 0.6088\n",
      "Epoch 4/20\n",
      "5/5 [==============================] - 0s 120ms/step - loss: 1.2093 - accuracy: 0.6236 - val_loss: 1.1115 - val_accuracy: 0.6421\n",
      "Epoch 5/20\n",
      "5/5 [==============================] - 0s 98ms/step - loss: 1.0479 - accuracy: 0.6593 - val_loss: 0.9802 - val_accuracy: 0.6795\n",
      "Epoch 6/20\n",
      "5/5 [==============================] - 0s 113ms/step - loss: 0.9293 - accuracy: 0.6955 - val_loss: 0.8859 - val_accuracy: 0.7024\n",
      "Epoch 7/20\n",
      "5/5 [==============================] - 0s 107ms/step - loss: 0.8431 - accuracy: 0.7211 - val_loss: 0.8163 - val_accuracy: 0.7248\n",
      "Epoch 8/20\n",
      "5/5 [==============================] - 0s 99ms/step - loss: 0.7785 - accuracy: 0.7395 - val_loss: 0.7630 - val_accuracy: 0.7381\n",
      "Epoch 9/20\n",
      "5/5 [==============================] - 0s 92ms/step - loss: 0.7284 - accuracy: 0.7558 - val_loss: 0.7198 - val_accuracy: 0.7508\n",
      "Epoch 10/20\n",
      "5/5 [==============================] - 0s 99ms/step - loss: 0.6875 - accuracy: 0.7716 - val_loss: 0.6838 - val_accuracy: 0.7646\n",
      "Epoch 11/20\n",
      "5/5 [==============================] - 0s 97ms/step - loss: 0.6521 - accuracy: 0.7815 - val_loss: 0.6545 - val_accuracy: 0.7766\n",
      "Epoch 12/20\n",
      "5/5 [==============================] - 0s 96ms/step - loss: 0.6232 - accuracy: 0.7896 - val_loss: 0.6287 - val_accuracy: 0.7844\n",
      "Epoch 13/20\n",
      "5/5 [==============================] - 0s 98ms/step - loss: 0.5984 - accuracy: 0.7978 - val_loss: 0.6070 - val_accuracy: 0.7904\n",
      "Epoch 14/20\n",
      "5/5 [==============================] - 0s 94ms/step - loss: 0.5770 - accuracy: 0.8041 - val_loss: 0.5882 - val_accuracy: 0.7959\n",
      "Epoch 15/20\n",
      "5/5 [==============================] - 0s 97ms/step - loss: 0.5588 - accuracy: 0.8092 - val_loss: 0.5722 - val_accuracy: 0.8012\n",
      "Epoch 16/20\n",
      "5/5 [==============================] - 0s 96ms/step - loss: 0.5428 - accuracy: 0.8139 - val_loss: 0.5581 - val_accuracy: 0.8052\n",
      "Epoch 17/20\n",
      "5/5 [==============================] - 0s 95ms/step - loss: 0.5288 - accuracy: 0.8175 - val_loss: 0.5466 - val_accuracy: 0.8076\n",
      "Epoch 18/20\n",
      "5/5 [==============================] - 0s 93ms/step - loss: 0.5162 - accuracy: 0.8211 - val_loss: 0.5358 - val_accuracy: 0.8124\n",
      "Epoch 19/20\n",
      "5/5 [==============================] - 0s 91ms/step - loss: 0.5053 - accuracy: 0.8239 - val_loss: 0.5274 - val_accuracy: 0.8134\n",
      "Epoch 20/20\n",
      "5/5 [==============================] - 0s 92ms/step - loss: 0.4966 - accuracy: 0.8263 - val_loss: 0.5186 - val_accuracy: 0.8181\n"
     ]
    }
   ],
   "source": [
    "# Latih model\n",
    "history = model.fit(\n",
    "    x_train,\n",
    "    y_train,\n",
    "    epochs=20,\n",
    "    steps_per_epoch=5,\n",
    "    validation_data=(x_test, y_test)\n",
    ")"
   ]
  },
  {
   "cell_type": "code",
   "execution_count": 134,
   "metadata": {},
   "outputs": [
    {
     "data": {
      "image/png": "[encoded data removed]",
      "text/plain": [
       "<Figure size 640x480 with 1 Axes>"
      ]
     },
     "metadata": {},
     "output_type": "display_data"
    }
   ],
   "source": [
    "# Grafik learning rate\n",
    "nilai_x = range(len(history.history['accuracy']))\n",
    "plt.plot(nilai_x, history.history['accuracy'], label='Training')\n",
    "plt.plot(nilai_x, history.history['val_accuracy'], label='Validation')\n",
    "plt.legend()\n",
    "plt.show()"
   ]
  }
 ],
 "metadata": {
  "kernelspec": {
   "display_name": "Python 3.10.7 64-bit",
   "language": "python",
   "name": "python3"
  },
  "language_info": {
   "codemirror_mode": {
    "name": "ipython",
    "version": 3
   },
   "file_extension": ".py",
   "mimetype": "text/x-python",
   "name": "python",
   "nbconvert_exporter": "python",
   "pygments_lexer": "ipython3",
   "version": "3.10.7"
  },
  "orig_nbformat": 4,
  "vscode": {
   "interpreter": {
    "hash": "feabd682d07e1de51ad16ab4c1d1a4968bc1b5ada19ac01ce8b5d3e05f7cf136"
   }
  }
 },
 "nbformat": 4,
 "nbformat_minor": 2
}
